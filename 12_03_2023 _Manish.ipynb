{
 "cells": [
  {
   "cell_type": "code",
   "execution_count": null,
   "id": "edaf4968",
   "metadata": {},
   "outputs": [],
   "source": [
    "s = set()"
   ]
  },
  {
   "cell_type": "code",
   "execution_count": null,
   "id": "7a3e99a7",
   "metadata": {},
   "outputs": [],
   "source": [
    "type(s)"
   ]
  },
  {
   "cell_type": "code",
   "execution_count": null,
   "id": "2c8ae6e9",
   "metadata": {},
   "outputs": [],
   "source": [
    "s = {}"
   ]
  },
  {
   "cell_type": "code",
   "execution_count": null,
   "id": "7d4bf9f0",
   "metadata": {},
   "outputs": [],
   "source": [
    "type(s)"
   ]
  },
  {
   "cell_type": "code",
   "execution_count": null,
   "id": "06066793",
   "metadata": {},
   "outputs": [],
   "source": [
    "l = []"
   ]
  },
  {
   "cell_type": "code",
   "execution_count": null,
   "id": "0b36ddbd",
   "metadata": {},
   "outputs": [],
   "source": [
    "type(l)"
   ]
  },
  {
   "cell_type": "code",
   "execution_count": null,
   "id": "c9c7e5c8",
   "metadata": {},
   "outputs": [],
   "source": [
    "l = [1,2,3,1,2,3,1,2,3]"
   ]
  },
  {
   "cell_type": "code",
   "execution_count": null,
   "id": "92d1ebc3",
   "metadata": {},
   "outputs": [],
   "source": [
    "type(l)"
   ]
  },
  {
   "cell_type": "code",
   "execution_count": null,
   "id": "e4c96606",
   "metadata": {},
   "outputs": [],
   "source": [
    "l[0]"
   ]
  },
  {
   "cell_type": "code",
   "execution_count": null,
   "id": "05d8b3cf",
   "metadata": {},
   "outputs": [],
   "source": [
    "l[5]"
   ]
  },
  {
   "cell_type": "code",
   "execution_count": null,
   "id": "87c9900e",
   "metadata": {},
   "outputs": [],
   "source": [
    "s = {1,2,3,1,2,3,1,2,3,4,5,6,7,8,9,10,1,2,4,5,6,7,8,9,10}"
   ]
  },
  {
   "cell_type": "code",
   "execution_count": null,
   "id": "283ed159",
   "metadata": {},
   "outputs": [],
   "source": [
    "s"
   ]
  },
  {
   "cell_type": "code",
   "execution_count": null,
   "id": "415f86f6",
   "metadata": {},
   "outputs": [],
   "source": [
    "type(s)"
   ]
  },
  {
   "cell_type": "code",
   "execution_count": null,
   "id": "0c7256b9",
   "metadata": {},
   "outputs": [],
   "source": [
    "s.add(10)\n",
    "s.add(10)\n",
    "s.add(10)\n",
    "s.add(10)\n",
    "s.add(10)\n",
    "s.add(10)"
   ]
  },
  {
   "cell_type": "code",
   "execution_count": null,
   "id": "d50cee25",
   "metadata": {},
   "outputs": [],
   "source": [
    "s"
   ]
  },
  {
   "cell_type": "code",
   "execution_count": null,
   "id": "f7fbd192",
   "metadata": {},
   "outputs": [],
   "source": [
    "s.remove(11)"
   ]
  },
  {
   "cell_type": "code",
   "execution_count": null,
   "id": "c6f7b56d",
   "metadata": {},
   "outputs": [],
   "source": [
    "s.remove(10)"
   ]
  },
  {
   "cell_type": "code",
   "execution_count": null,
   "id": "4170d658",
   "metadata": {},
   "outputs": [],
   "source": [
    "s"
   ]
  },
  {
   "cell_type": "code",
   "execution_count": null,
   "id": "9287613f",
   "metadata": {},
   "outputs": [],
   "source": [
    "s.discard(8)"
   ]
  },
  {
   "cell_type": "code",
   "execution_count": null,
   "id": "e1dceb18",
   "metadata": {},
   "outputs": [],
   "source": [
    "s"
   ]
  },
  {
   "cell_type": "code",
   "execution_count": null,
   "id": "71ad3345",
   "metadata": {},
   "outputs": [],
   "source": [
    "s.discard(9)"
   ]
  },
  {
   "cell_type": "code",
   "execution_count": null,
   "id": "cf657297",
   "metadata": {},
   "outputs": [],
   "source": [
    "s"
   ]
  },
  {
   "cell_type": "code",
   "execution_count": null,
   "id": "283c7f63",
   "metadata": {},
   "outputs": [],
   "source": [
    "s.discard(20)"
   ]
  },
  {
   "cell_type": "code",
   "execution_count": null,
   "id": "28702b9e",
   "metadata": {},
   "outputs": [],
   "source": [
    "s"
   ]
  },
  {
   "cell_type": "code",
   "execution_count": null,
   "id": "6b95f243",
   "metadata": {},
   "outputs": [],
   "source": [
    "s"
   ]
  },
  {
   "cell_type": "code",
   "execution_count": null,
   "id": "6ba58ef5",
   "metadata": {},
   "outputs": [],
   "source": [
    "s[0]"
   ]
  },
  {
   "cell_type": "code",
   "execution_count": null,
   "id": "c753901a",
   "metadata": {},
   "outputs": [],
   "source": [
    "s[1:5]"
   ]
  },
  {
   "cell_type": "code",
   "execution_count": null,
   "id": "26279f34",
   "metadata": {},
   "outputs": [],
   "source": [
    "s.update([12])"
   ]
  },
  {
   "cell_type": "code",
   "execution_count": null,
   "id": "7ff5e63f",
   "metadata": {},
   "outputs": [],
   "source": [
    "s"
   ]
  },
  {
   "cell_type": "code",
   "execution_count": null,
   "id": "b932c663",
   "metadata": {},
   "outputs": [],
   "source": [
    "s.add(100)"
   ]
  },
  {
   "cell_type": "code",
   "execution_count": null,
   "id": "711f7430",
   "metadata": {},
   "outputs": [],
   "source": [
    "s"
   ]
  },
  {
   "cell_type": "code",
   "execution_count": null,
   "id": "379c14e8",
   "metadata": {},
   "outputs": [],
   "source": [
    "s.update([200,300,400])"
   ]
  },
  {
   "cell_type": "code",
   "execution_count": null,
   "id": "23ac4c02",
   "metadata": {},
   "outputs": [],
   "source": [
    "s"
   ]
  },
  {
   "cell_type": "code",
   "execution_count": null,
   "id": "6f7daa67",
   "metadata": {},
   "outputs": [],
   "source": [
    "s1 = {1, 3, 4, 5, 8}\n",
    "s2 = {4, 5, 6, 7, 1, 9}"
   ]
  },
  {
   "cell_type": "code",
   "execution_count": null,
   "id": "b9642e28",
   "metadata": {},
   "outputs": [],
   "source": [
    "s1.union(s2)"
   ]
  },
  {
   "cell_type": "code",
   "execution_count": null,
   "id": "22b98d70",
   "metadata": {},
   "outputs": [],
   "source": [
    "s1.intersection(s2)"
   ]
  },
  {
   "cell_type": "code",
   "execution_count": null,
   "id": "38fc4d30",
   "metadata": {},
   "outputs": [],
   "source": [
    "s1|s2"
   ]
  },
  {
   "cell_type": "code",
   "execution_count": null,
   "id": "8ba2e51a",
   "metadata": {},
   "outputs": [],
   "source": [
    "s1&s2"
   ]
  },
  {
   "cell_type": "code",
   "execution_count": null,
   "id": "b5cd4007",
   "metadata": {},
   "outputs": [],
   "source": [
    "s1.symmetric_difference(s2)"
   ]
  },
  {
   "cell_type": "code",
   "execution_count": null,
   "id": "c410df07",
   "metadata": {},
   "outputs": [],
   "source": [
    "(s1|s2) - (s1&s2)"
   ]
  },
  {
   "cell_type": "code",
   "execution_count": null,
   "id": "c8d588f6",
   "metadata": {},
   "outputs": [],
   "source": [
    "s1"
   ]
  },
  {
   "cell_type": "code",
   "execution_count": null,
   "id": "7e1aece2",
   "metadata": {},
   "outputs": [],
   "source": [
    "s2"
   ]
  },
  {
   "cell_type": "code",
   "execution_count": null,
   "id": "288ee307",
   "metadata": {},
   "outputs": [],
   "source": [
    "s1-s2"
   ]
  },
  {
   "cell_type": "code",
   "execution_count": null,
   "id": "58d387d9",
   "metadata": {},
   "outputs": [],
   "source": [
    "s2-s1"
   ]
  },
  {
   "cell_type": "code",
   "execution_count": null,
   "id": "83335eb2",
   "metadata": {},
   "outputs": [],
   "source": [
    "some_list = [6,3,7,6,4,1,0,9,2,1,0,8,6,4,7]"
   ]
  },
  {
   "cell_type": "code",
   "execution_count": null,
   "id": "32d8132f",
   "metadata": {},
   "outputs": [],
   "source": [
    "my_set = set(some_list)"
   ]
  },
  {
   "cell_type": "code",
   "execution_count": null,
   "id": "ab65747e",
   "metadata": {},
   "outputs": [],
   "source": [
    "my_set"
   ]
  },
  {
   "cell_type": "code",
   "execution_count": null,
   "id": "64b2da37",
   "metadata": {},
   "outputs": [],
   "source": [
    "some_list = list(my_set)"
   ]
  },
  {
   "cell_type": "code",
   "execution_count": null,
   "id": "3991a16c",
   "metadata": {},
   "outputs": [],
   "source": [
    "some_list"
   ]
  },
  {
   "cell_type": "code",
   "execution_count": null,
   "id": "6207ccd9",
   "metadata": {},
   "outputs": [],
   "source": [
    "s"
   ]
  },
  {
   "cell_type": "code",
   "execution_count": null,
   "id": "d60ad3db",
   "metadata": {},
   "outputs": [],
   "source": [
    "100 in s"
   ]
  },
  {
   "cell_type": "code",
   "execution_count": null,
   "id": "332cd248",
   "metadata": {},
   "outputs": [],
   "source": [
    "100 not in s"
   ]
  },
  {
   "cell_type": "code",
   "execution_count": null,
   "id": "95e41bb6",
   "metadata": {},
   "outputs": [],
   "source": [
    "5 in s"
   ]
  },
  {
   "cell_type": "code",
   "execution_count": null,
   "id": "abc93762",
   "metadata": {},
   "outputs": [],
   "source": [
    "9 not in s"
   ]
  },
  {
   "cell_type": "code",
   "execution_count": null,
   "id": "1a8a6cba",
   "metadata": {},
   "outputs": [],
   "source": [
    "t = ()"
   ]
  },
  {
   "cell_type": "code",
   "execution_count": null,
   "id": "65af0262",
   "metadata": {},
   "outputs": [],
   "source": [
    "type(t)"
   ]
  },
  {
   "cell_type": "code",
   "execution_count": null,
   "id": "5b8af0dc",
   "metadata": {},
   "outputs": [],
   "source": [
    "t = tuple()"
   ]
  },
  {
   "cell_type": "code",
   "execution_count": null,
   "id": "5bd5a556",
   "metadata": {},
   "outputs": [],
   "source": [
    "type(t)"
   ]
  },
  {
   "cell_type": "code",
   "execution_count": null,
   "id": "b43e919d",
   "metadata": {},
   "outputs": [],
   "source": [
    "t = (1,2,3, True, False, \"data science\", 'machine', 23.45,4+8j, {1,2,3},{1:2,6:3})"
   ]
  },
  {
   "cell_type": "code",
   "execution_count": null,
   "id": "9d321996",
   "metadata": {},
   "outputs": [],
   "source": [
    "t"
   ]
  },
  {
   "cell_type": "code",
   "execution_count": null,
   "id": "7d2f1034",
   "metadata": {},
   "outputs": [],
   "source": [
    "type(t)"
   ]
  },
  {
   "cell_type": "code",
   "execution_count": null,
   "id": "d0dc27c0",
   "metadata": {},
   "outputs": [],
   "source": [
    "t"
   ]
  },
  {
   "cell_type": "code",
   "execution_count": null,
   "id": "65145690",
   "metadata": {},
   "outputs": [],
   "source": [
    "t = \"mohit\""
   ]
  },
  {
   "cell_type": "code",
   "execution_count": null,
   "id": "2a6253bb",
   "metadata": {},
   "outputs": [],
   "source": [
    "type(t)"
   ]
  },
  {
   "cell_type": "code",
   "execution_count": null,
   "id": "b64400f8",
   "metadata": {},
   "outputs": [],
   "source": [
    "t = ('mohit',)"
   ]
  },
  {
   "cell_type": "code",
   "execution_count": null,
   "id": "2b48b7d5",
   "metadata": {},
   "outputs": [],
   "source": [
    "type(t)"
   ]
  },
  {
   "cell_type": "code",
   "execution_count": null,
   "id": "12015272",
   "metadata": {},
   "outputs": [],
   "source": [
    "s = 'sanjay',"
   ]
  },
  {
   "cell_type": "code",
   "execution_count": null,
   "id": "ada08e2c",
   "metadata": {},
   "outputs": [],
   "source": [
    "type(s)"
   ]
  },
  {
   "cell_type": "code",
   "execution_count": null,
   "id": "6bc2cd19",
   "metadata": {},
   "outputs": [],
   "source": [
    "t"
   ]
  },
  {
   "cell_type": "code",
   "execution_count": null,
   "id": "1d09de2e",
   "metadata": {},
   "outputs": [],
   "source": [
    "s"
   ]
  },
  {
   "cell_type": "code",
   "execution_count": null,
   "id": "8991f04b",
   "metadata": {},
   "outputs": [],
   "source": [
    "t"
   ]
  },
  {
   "cell_type": "code",
   "execution_count": null,
   "id": "b9f99b5b",
   "metadata": {},
   "outputs": [],
   "source": [
    "t[0]"
   ]
  },
  {
   "cell_type": "code",
   "execution_count": null,
   "id": "6b3a0720",
   "metadata": {},
   "outputs": [],
   "source": [
    "t[5]"
   ]
  },
  {
   "cell_type": "code",
   "execution_count": null,
   "id": "deee908b",
   "metadata": {},
   "outputs": [],
   "source": [
    "t[6]"
   ]
  },
  {
   "cell_type": "code",
   "execution_count": null,
   "id": "865b1f03",
   "metadata": {},
   "outputs": [],
   "source": [
    "t[8]"
   ]
  },
  {
   "cell_type": "code",
   "execution_count": null,
   "id": "a12dfce8",
   "metadata": {},
   "outputs": [],
   "source": [
    "t[1:6]"
   ]
  },
  {
   "cell_type": "code",
   "execution_count": null,
   "id": "5a2cfe57",
   "metadata": {},
   "outputs": [],
   "source": [
    "t[-1]"
   ]
  },
  {
   "cell_type": "code",
   "execution_count": null,
   "id": "60c63fa9",
   "metadata": {},
   "outputs": [],
   "source": [
    "t[-1:-6:-1]"
   ]
  },
  {
   "cell_type": "code",
   "execution_count": null,
   "id": "06375ebb",
   "metadata": {},
   "outputs": [],
   "source": [
    "t[::-1]"
   ]
  },
  {
   "cell_type": "code",
   "execution_count": null,
   "id": "cfa35820",
   "metadata": {},
   "outputs": [],
   "source": [
    "l = [4,5,6]"
   ]
  },
  {
   "cell_type": "code",
   "execution_count": null,
   "id": "cb4d6062",
   "metadata": {},
   "outputs": [],
   "source": [
    "l[1] = 500"
   ]
  },
  {
   "cell_type": "code",
   "execution_count": null,
   "id": "90e7cb1f",
   "metadata": {},
   "outputs": [],
   "source": [
    "l"
   ]
  },
  {
   "cell_type": "code",
   "execution_count": null,
   "id": "8267d243",
   "metadata": {},
   "outputs": [],
   "source": [
    "l = (4,5,6)"
   ]
  },
  {
   "cell_type": "code",
   "execution_count": null,
   "id": "012048cb",
   "metadata": {},
   "outputs": [],
   "source": [
    "type(l)"
   ]
  },
  {
   "cell_type": "code",
   "execution_count": null,
   "id": "b068dbd9",
   "metadata": {},
   "outputs": [],
   "source": [
    "l[1] = 500"
   ]
  },
  {
   "cell_type": "code",
   "execution_count": null,
   "id": "62351e30",
   "metadata": {},
   "outputs": [],
   "source": [
    "lst = [\"sanjay\", 'manish', 'datascienece', 'mohit', 'TGC']"
   ]
  },
  {
   "cell_type": "code",
   "execution_count": null,
   "id": "6ccdca34",
   "metadata": {},
   "outputs": [],
   "source": [
    "tu = (20,30,50,\"machine\", False, lst,789,258,369 )"
   ]
  },
  {
   "cell_type": "code",
   "execution_count": null,
   "id": "9860ef46",
   "metadata": {},
   "outputs": [],
   "source": [
    "type(lst)"
   ]
  },
  {
   "cell_type": "code",
   "execution_count": null,
   "id": "0d00851d",
   "metadata": {},
   "outputs": [],
   "source": [
    "type(tu)"
   ]
  },
  {
   "cell_type": "code",
   "execution_count": null,
   "id": "c46954c3",
   "metadata": {},
   "outputs": [],
   "source": [
    "tu[5][1] = \"rohit\""
   ]
  },
  {
   "cell_type": "code",
   "execution_count": null,
   "id": "f118aee9",
   "metadata": {},
   "outputs": [],
   "source": [
    "tu"
   ]
  },
  {
   "cell_type": "code",
   "execution_count": null,
   "id": "6a563148",
   "metadata": {},
   "outputs": [],
   "source": [
    "lst"
   ]
  },
  {
   "cell_type": "code",
   "execution_count": null,
   "id": "9aa8b555",
   "metadata": {},
   "outputs": [],
   "source": [
    "t"
   ]
  },
  {
   "cell_type": "code",
   "execution_count": null,
   "id": "d9d7e387",
   "metadata": {},
   "outputs": [],
   "source": [
    "for i in t:\n",
    "    print(i)"
   ]
  },
  {
   "cell_type": "code",
   "execution_count": null,
   "id": "89836fc8",
   "metadata": {},
   "outputs": [],
   "source": [
    "t = (4,5,6,7,8,9)"
   ]
  },
  {
   "cell_type": "code",
   "execution_count": null,
   "id": "4e1064fd",
   "metadata": {},
   "outputs": [],
   "source": [
    "for i in t:\n",
    "    print(i**3)"
   ]
  },
  {
   "cell_type": "code",
   "execution_count": null,
   "id": "e30fe89c",
   "metadata": {},
   "outputs": [],
   "source": [
    "t = (1,2,3) + (7,8,9)"
   ]
  },
  {
   "cell_type": "code",
   "execution_count": null,
   "id": "01302152",
   "metadata": {},
   "outputs": [],
   "source": [
    "(7,8,9)"
   ]
  },
  {
   "cell_type": "code",
   "execution_count": null,
   "id": "191419fd",
   "metadata": {},
   "outputs": [],
   "source": [
    "t"
   ]
  },
  {
   "cell_type": "code",
   "execution_count": null,
   "id": "872620aa",
   "metadata": {},
   "outputs": [],
   "source": [
    "p = (4,5,6)"
   ]
  },
  {
   "cell_type": "code",
   "execution_count": null,
   "id": "c65cd37b",
   "metadata": {},
   "outputs": [],
   "source": [
    "q = (2,5,8)"
   ]
  },
  {
   "cell_type": "code",
   "execution_count": null,
   "id": "6ba60b9f",
   "metadata": {},
   "outputs": [],
   "source": [
    "r = p+q"
   ]
  },
  {
   "cell_type": "code",
   "execution_count": null,
   "id": "83a7287e",
   "metadata": {},
   "outputs": [],
   "source": [
    "p"
   ]
  },
  {
   "cell_type": "code",
   "execution_count": null,
   "id": "efc196a7",
   "metadata": {},
   "outputs": [],
   "source": [
    "q"
   ]
  },
  {
   "cell_type": "code",
   "execution_count": null,
   "id": "104ebc7f",
   "metadata": {},
   "outputs": [],
   "source": [
    "r"
   ]
  },
  {
   "cell_type": "code",
   "execution_count": null,
   "id": "59af49f7",
   "metadata": {},
   "outputs": [],
   "source": [
    "\"hello\"*15"
   ]
  },
  {
   "cell_type": "code",
   "execution_count": null,
   "id": "27b811a8",
   "metadata": {},
   "outputs": [],
   "source": [
    "45*15"
   ]
  },
  {
   "cell_type": "code",
   "execution_count": null,
   "id": "0da71619",
   "metadata": {},
   "outputs": [],
   "source": [
    "(\"computer\",)*8"
   ]
  },
  {
   "cell_type": "code",
   "execution_count": null,
   "id": "fd840587",
   "metadata": {},
   "outputs": [],
   "source": [
    "t"
   ]
  },
  {
   "cell_type": "code",
   "execution_count": null,
   "id": "c40e7dde",
   "metadata": {},
   "outputs": [],
   "source": [
    "del t"
   ]
  },
  {
   "cell_type": "code",
   "execution_count": null,
   "id": "89f8a74f",
   "metadata": {},
   "outputs": [],
   "source": [
    "t"
   ]
  },
  {
   "cell_type": "code",
   "execution_count": null,
   "id": "d6387380",
   "metadata": {},
   "outputs": [],
   "source": [
    "t[2]"
   ]
  },
  {
   "cell_type": "code",
   "execution_count": null,
   "id": "cfe029f3",
   "metadata": {},
   "outputs": [],
   "source": [
    "del t[2]"
   ]
  },
  {
   "cell_type": "code",
   "execution_count": null,
   "id": "7ff5e469",
   "metadata": {},
   "outputs": [],
   "source": [
    "del t"
   ]
  },
  {
   "cell_type": "code",
   "execution_count": null,
   "id": "d8b1ceed",
   "metadata": {},
   "outputs": [],
   "source": [
    "\n",
    "t\n"
   ]
  },
  {
   "cell_type": "code",
   "execution_count": null,
   "id": "6eab9a01",
   "metadata": {},
   "outputs": [],
   "source": [
    "t = (1,2,3,4,5,6,7,8,9)"
   ]
  },
  {
   "cell_type": "code",
   "execution_count": null,
   "id": "e2060477",
   "metadata": {},
   "outputs": [],
   "source": [
    "type(t)"
   ]
  },
  {
   "cell_type": "code",
   "execution_count": null,
   "id": "64c4e78a",
   "metadata": {},
   "outputs": [],
   "source": [
    "\n",
    "t.count(5)"
   ]
  },
  {
   "cell_type": "code",
   "execution_count": null,
   "id": "bb56e575",
   "metadata": {},
   "outputs": [],
   "source": [
    "t.index(4)"
   ]
  },
  {
   "cell_type": "code",
   "execution_count": null,
   "id": "e453c98d",
   "metadata": {},
   "outputs": [],
   "source": [
    "t"
   ]
  },
  {
   "cell_type": "code",
   "execution_count": null,
   "id": "ba0105ba",
   "metadata": {},
   "outputs": [],
   "source": [
    "3 in t"
   ]
  },
  {
   "cell_type": "code",
   "execution_count": null,
   "id": "9af5fd24",
   "metadata": {},
   "outputs": [],
   "source": [
    "3 not in t"
   ]
  },
  {
   "cell_type": "code",
   "execution_count": null,
   "id": "c0491965",
   "metadata": {},
   "outputs": [],
   "source": [
    "t"
   ]
  },
  {
   "cell_type": "code",
   "execution_count": null,
   "id": "21c1df77",
   "metadata": {},
   "outputs": [],
   "source": [
    "t = (4,5,6)"
   ]
  },
  {
   "cell_type": "code",
   "execution_count": null,
   "id": "a9a123e8",
   "metadata": {},
   "outputs": [],
   "source": [
    "print(*t)"
   ]
  },
  {
   "cell_type": "code",
   "execution_count": null,
   "id": "78bf3ef4",
   "metadata": {},
   "outputs": [],
   "source": [
    "a,b,c = t"
   ]
  },
  {
   "cell_type": "code",
   "execution_count": null,
   "id": "c118bc6e",
   "metadata": {},
   "outputs": [],
   "source": [
    "a"
   ]
  },
  {
   "cell_type": "code",
   "execution_count": null,
   "id": "7a3e7658",
   "metadata": {},
   "outputs": [],
   "source": [
    "b"
   ]
  },
  {
   "cell_type": "code",
   "execution_count": null,
   "id": "e58e70bd",
   "metadata": {},
   "outputs": [],
   "source": [
    "c"
   ]
  },
  {
   "cell_type": "code",
   "execution_count": null,
   "id": "65e172bf",
   "metadata": {},
   "outputs": [],
   "source": [
    "d = {}"
   ]
  },
  {
   "cell_type": "code",
   "execution_count": null,
   "id": "31706809",
   "metadata": {},
   "outputs": [],
   "source": [
    "type(d)"
   ]
  },
  {
   "cell_type": "code",
   "execution_count": null,
   "id": "864ebc16",
   "metadata": {},
   "outputs": [],
   "source": [
    "dic = dict()"
   ]
  },
  {
   "cell_type": "code",
   "execution_count": null,
   "id": "2a8c177f",
   "metadata": {},
   "outputs": [],
   "source": [
    "type(dic)"
   ]
  },
  {
   "cell_type": "code",
   "execution_count": null,
   "id": "be40d1ae",
   "metadata": {},
   "outputs": [],
   "source": [
    "f = dict([(1,\"abc\"), (2,\"pqr\")])"
   ]
  },
  {
   "cell_type": "code",
   "execution_count": null,
   "id": "f5f7dedc",
   "metadata": {},
   "outputs": [],
   "source": [
    "f"
   ]
  },
  {
   "cell_type": "code",
   "execution_count": null,
   "id": "8b8e4e6b",
   "metadata": {},
   "outputs": [],
   "source": [
    "type(f)"
   ]
  },
  {
   "cell_type": "code",
   "execution_count": null,
   "id": "6a35d70c",
   "metadata": {},
   "outputs": [],
   "source": [
    "user_info = {\n",
    "    \"name\":\"sanjay\",\n",
    "    \"age\":30,\n",
    "    \"nationality\":\"Indian\"\n",
    "}"
   ]
  },
  {
   "cell_type": "code",
   "execution_count": null,
   "id": "c0dfee00",
   "metadata": {},
   "outputs": [],
   "source": [
    "user_info"
   ]
  },
  {
   "cell_type": "code",
   "execution_count": null,
   "id": "e42ad315",
   "metadata": {},
   "outputs": [],
   "source": [
    "type(user_info)"
   ]
  },
  {
   "cell_type": "code",
   "execution_count": null,
   "id": "ff2a9f23",
   "metadata": {},
   "outputs": [],
   "source": [
    "user_info={ \n",
    "      \"name\":\"manish\",\n",
    "    \"age\": 45,\n",
    "    \"country\":\"india\"\n",
    "}"
   ]
  },
  {
   "cell_type": "code",
   "execution_count": null,
   "id": "b1290725",
   "metadata": {},
   "outputs": [],
   "source": [
    "type(user_info)\n"
   ]
  },
  {
   "cell_type": "code",
   "execution_count": null,
   "id": "8fce8e4b",
   "metadata": {},
   "outputs": [],
   "source": [
    "user_info['name']"
   ]
  },
  {
   "cell_type": "code",
   "execution_count": null,
   "id": "e60e4dc5",
   "metadata": {},
   "outputs": [],
   "source": [
    "user_info['age']"
   ]
  },
  {
   "cell_type": "code",
   "execution_count": null,
   "id": "cc326439",
   "metadata": {},
   "outputs": [],
   "source": [
    "user_info['country']"
   ]
  },
  {
   "cell_type": "code",
   "execution_count": null,
   "id": "3af9cdaa",
   "metadata": {},
   "outputs": [],
   "source": [
    "user_info['science']"
   ]
  },
  {
   "cell_type": "code",
   "execution_count": null,
   "id": "4e6004ee",
   "metadata": {},
   "outputs": [],
   "source": [
    "user_info['hooby']"
   ]
  },
  {
   "cell_type": "code",
   "execution_count": null,
   "id": "c4c2106c",
   "metadata": {},
   "outputs": [],
   "source": [
    "user_info.get('hobby')"
   ]
  },
  {
   "cell_type": "code",
   "execution_count": null,
   "id": "76472a97",
   "metadata": {},
   "outputs": [],
   "source": [
    "user_info.keys()"
   ]
  },
  {
   "cell_type": "code",
   "execution_count": null,
   "id": "5368a308",
   "metadata": {},
   "outputs": [],
   "source": [
    "user_info.values()"
   ]
  },
  {
   "cell_type": "code",
   "execution_count": null,
   "id": "377e6e85",
   "metadata": {},
   "outputs": [],
   "source": [
    "user_info.items()"
   ]
  },
  {
   "cell_type": "code",
   "execution_count": null,
   "id": "15f6ab5f",
   "metadata": {},
   "outputs": [],
   "source": [
    "user_info['hobby'] = ['coding', 'reading', 'writing']"
   ]
  },
  {
   "cell_type": "code",
   "execution_count": null,
   "id": "7a42856a",
   "metadata": {},
   "outputs": [],
   "source": [
    "user_info"
   ]
  },
  {
   "cell_type": "code",
   "execution_count": null,
   "id": "dfe074de",
   "metadata": {},
   "outputs": [],
   "source": [
    "user_info['hobby']"
   ]
  },
  {
   "cell_type": "code",
   "execution_count": null,
   "id": "6117ea9f",
   "metadata": {},
   "outputs": [],
   "source": [
    "user_info['name'] = 'sanjay'"
   ]
  },
  {
   "cell_type": "code",
   "execution_count": null,
   "id": "87fc164b",
   "metadata": {},
   "outputs": [],
   "source": [
    "user_info"
   ]
  },
  {
   "cell_type": "code",
   "execution_count": null,
   "id": "c78a59c0",
   "metadata": {},
   "outputs": [],
   "source": [
    "user_info"
   ]
  },
  {
   "cell_type": "code",
   "execution_count": null,
   "id": "4d6263fe",
   "metadata": {},
   "outputs": [],
   "source": [
    "for k,v in user_info.items():\n",
    "    print(k,\":\",v)"
   ]
  },
  {
   "cell_type": "code",
   "execution_count": null,
   "id": "9f80aca5",
   "metadata": {},
   "outputs": [],
   "source": [
    "for k in user_info.values():\n",
    "    print(k)"
   ]
  },
  {
   "cell_type": "code",
   "execution_count": null,
   "id": "c1374d6c",
   "metadata": {},
   "outputs": [],
   "source": [
    "for k in user_info:\n",
    "    print(k,\":\", user_info[k])"
   ]
  },
  {
   "cell_type": "code",
   "execution_count": null,
   "id": "3422364b",
   "metadata": {},
   "outputs": [],
   "source": [
    "hash(56)"
   ]
  },
  {
   "cell_type": "code",
   "execution_count": null,
   "id": "b1c17a9a",
   "metadata": {},
   "outputs": [],
   "source": [
    "hash('python')"
   ]
  },
  {
   "cell_type": "code",
   "execution_count": null,
   "id": "68cbc7cd",
   "metadata": {},
   "outputs": [],
   "source": [
    "hash([1,2,3])"
   ]
  },
  {
   "cell_type": "code",
   "execution_count": null,
   "id": "fa604359",
   "metadata": {},
   "outputs": [],
   "source": [
    "hash((4,5,6))"
   ]
  },
  {
   "cell_type": "code",
   "execution_count": null,
   "id": "4349cb64",
   "metadata": {},
   "outputs": [],
   "source": [
    "hash({7,8,9})"
   ]
  },
  {
   "cell_type": "code",
   "execution_count": null,
   "id": "11085ca4",
   "metadata": {},
   "outputs": [],
   "source": [
    "user_info"
   ]
  },
  {
   "cell_type": "code",
   "execution_count": null,
   "id": "b74ccff4",
   "metadata": {},
   "outputs": [],
   "source": [
    "user_info.pop('age')"
   ]
  },
  {
   "cell_type": "code",
   "execution_count": null,
   "id": "a26f9876",
   "metadata": {},
   "outputs": [],
   "source": [
    "user_info"
   ]
  },
  {
   "cell_type": "code",
   "execution_count": null,
   "id": "c3b4cdae",
   "metadata": {},
   "outputs": [],
   "source": [
    "user_info.pop('age')"
   ]
  },
  {
   "cell_type": "code",
   "execution_count": null,
   "id": "23054857",
   "metadata": {},
   "outputs": [],
   "source": [
    "del user_info['name']"
   ]
  },
  {
   "cell_type": "code",
   "execution_count": null,
   "id": "df08e1f5",
   "metadata": {},
   "outputs": [],
   "source": [
    "user_info"
   ]
  },
  {
   "cell_type": "code",
   "execution_count": null,
   "id": "14c7f0d5",
   "metadata": {},
   "outputs": [],
   "source": [
    "canteen_menu = {\n",
    "    \"samosa\":15,\n",
    "    \"pizza\":150,\n",
    "    \"burger\":70,\n",
    "    \"fruits\":{\n",
    "        \"apple\":25,\n",
    "        \"mango\":60,\n",
    "        \"oranges\":100\n",
    "    }\n",
    "}"
   ]
  },
  {
   "cell_type": "code",
   "execution_count": null,
   "id": "d7780860",
   "metadata": {},
   "outputs": [],
   "source": [
    "canteen_menu"
   ]
  },
  {
   "cell_type": "code",
   "execution_count": null,
   "id": "4e8b6ee2",
   "metadata": {},
   "outputs": [],
   "source": [
    "canteen_menu={\n",
    "    \"samosa\":15,\n",
    "    \"pizza\":20,\n",
    "    \"softdrink\":56,\n",
    "    \"Burger\":25,\n",
    "    \"fruits\":{\n",
    "        \"apple\":10,\n",
    "        \"guava\":19,\n",
    "        \"oranges\":60,\n",
    "        \"kiwi\":80\n",
    "        \n",
    "    }\n",
    "}"
   ]
  },
  {
   "cell_type": "code",
   "execution_count": null,
   "id": "616b90e8",
   "metadata": {},
   "outputs": [],
   "source": [
    "canteen_menu['fruits']['guava']"
   ]
  },
  {
   "cell_type": "code",
   "execution_count": null,
   "id": "984c5631",
   "metadata": {},
   "outputs": [],
   "source": [
    "canteen_menu['juice'] = [150,200,250]"
   ]
  },
  {
   "cell_type": "code",
   "execution_count": null,
   "id": "0b55c875",
   "metadata": {},
   "outputs": [],
   "source": [
    "canteen_menu"
   ]
  },
  {
   "cell_type": "code",
   "execution_count": null,
   "id": "c52e51b6",
   "metadata": {},
   "outputs": [],
   "source": [
    "canteen_menu['juice'][-1]"
   ]
  },
  {
   "cell_type": "code",
   "execution_count": null,
   "id": "6233e91c",
   "metadata": {},
   "outputs": [],
   "source": [
    "new_list = []\n",
    "for i in range(1,21):\n",
    "    if i%2==0:\n",
    "        new_list.append(i**2)\n",
    "    else:\n",
    "        new_list.append(i**3)"
   ]
  },
  {
   "cell_type": "code",
   "execution_count": null,
   "id": "98865a86",
   "metadata": {},
   "outputs": [],
   "source": [
    "new_list"
   ]
  },
  {
   "cell_type": "code",
   "execution_count": null,
   "id": "cb261575",
   "metadata": {},
   "outputs": [],
   "source": [
    "[i**2 if i%2==0 else i**3 for i in range(21)]"
   ]
  },
  {
   "cell_type": "code",
   "execution_count": null,
   "id": "87fe4588",
   "metadata": {},
   "outputs": [],
   "source": [
    "d = {'a' :1, 'b': 2, 'c': 3}"
   ]
  },
  {
   "cell_type": "code",
   "execution_count": null,
   "id": "2d5b5ba7",
   "metadata": {},
   "outputs": [],
   "source": [
    "m = {}\n",
    "for k,v in d.items():\n",
    "    m[v] = k\n",
    "    \n",
    "    "
   ]
  },
  {
   "cell_type": "code",
   "execution_count": null,
   "id": "0b5d1dc7",
   "metadata": {},
   "outputs": [],
   "source": [
    "m"
   ]
  },
  {
   "cell_type": "code",
   "execution_count": null,
   "id": "47616adf",
   "metadata": {},
   "outputs": [],
   "source": [
    "{v:k for k,v in d.items()}"
   ]
  },
  {
   "cell_type": "code",
   "execution_count": null,
   "id": "896e036e",
   "metadata": {},
   "outputs": [],
   "source": [
    "d = {'a' :1, 'b': 2, 'c': 3, 'd' : 4}\n",
    "\n",
    "\n",
    "#d {\"bm\":4, \"cm\":9, \"dm\":16}"
   ]
  },
  {
   "cell_type": "code",
   "execution_count": null,
   "id": "dfe1beb4",
   "metadata": {},
   "outputs": [],
   "source": [
    "d"
   ]
  },
  {
   "cell_type": "code",
   "execution_count": null,
   "id": "32962903",
   "metadata": {},
   "outputs": [],
   "source": [
    "{k+'m':v**2 for k,v in d.items() if v>=2}"
   ]
  },
  {
   "cell_type": "code",
   "execution_count": null,
   "id": "e2ded81f",
   "metadata": {},
   "outputs": [],
   "source": [
    "{k+\"m\":v**2 if v>=3 else v**3 for k,v in d.items()}"
   ]
  },
  {
   "cell_type": "code",
   "execution_count": null,
   "id": "462050fa",
   "metadata": {},
   "outputs": [],
   "source": [
    "range(10)"
   ]
  },
  {
   "cell_type": "code",
   "execution_count": null,
   "id": "b2efe54f",
   "metadata": {},
   "outputs": [],
   "source": [
    "len(d)"
   ]
  },
  {
   "cell_type": "code",
   "execution_count": null,
   "id": "2698d811",
   "metadata": {},
   "outputs": [],
   "source": [
    "print(d)"
   ]
  },
  {
   "cell_type": "code",
   "execution_count": null,
   "id": "6fcea4f2",
   "metadata": {},
   "outputs": [],
   "source": [
    "import pandas as pd"
   ]
  },
  {
   "cell_type": "code",
   "execution_count": null,
   "id": "3298585e",
   "metadata": {},
   "outputs": [],
   "source": [
    "pd.read_csv('https://gist.githubusercontent.com/curran/a08a1080b88344b0c8a7/raw/0e7a9b0a5d22642a06d3d5b9bcbad9890c8ee534/iris.csv')"
   ]
  },
  {
   "cell_type": "code",
   "execution_count": null,
   "id": "42863643",
   "metadata": {},
   "outputs": [],
   "source": [
    "def greetings(name):\n",
    "    \"\"\"This function will greet you\"\"\"\n",
    "    \n",
    "    print(\"Hello {} and good morning\".format(name))"
   ]
  },
  {
   "cell_type": "code",
   "execution_count": null,
   "id": "bec0d63f",
   "metadata": {},
   "outputs": [],
   "source": [
    "type(greetings)"
   ]
  },
  {
   "cell_type": "code",
   "execution_count": null,
   "id": "54af806d",
   "metadata": {},
   "outputs": [],
   "source": [
    "greetings??"
   ]
  },
  {
   "cell_type": "code",
   "execution_count": null,
   "id": "ef9def0c",
   "metadata": {},
   "outputs": [],
   "source": [
    "greetings(\"Manish\")"
   ]
  },
  {
   "cell_type": "code",
   "execution_count": null,
   "id": "36bbd833",
   "metadata": {},
   "outputs": [],
   "source": [
    "greetings(\"raavi\")"
   ]
  },
  {
   "cell_type": "code",
   "execution_count": null,
   "id": "4280dffc",
   "metadata": {},
   "outputs": [],
   "source": [
    "greetings(\"sanjay\")"
   ]
  },
  {
   "cell_type": "code",
   "execution_count": null,
   "id": "bef4d1db",
   "metadata": {},
   "outputs": [],
   "source": [
    "len(d)"
   ]
  },
  {
   "cell_type": "code",
   "execution_count": null,
   "id": "cba6ff1b",
   "metadata": {},
   "outputs": [],
   "source": [
    "greetings.__doc__"
   ]
  },
  {
   "cell_type": "code",
   "execution_count": null,
   "id": "d0dd46dd",
   "metadata": {},
   "outputs": [],
   "source": [
    "def greetings(name):\n",
    "    \"\"\"This function will greet you\"\"\"\n",
    "    \n",
    "    return name"
   ]
  },
  {
   "cell_type": "code",
   "execution_count": null,
   "id": "494a7575",
   "metadata": {},
   "outputs": [],
   "source": [
    "n1 =greetings('sanjay')"
   ]
  },
  {
   "cell_type": "code",
   "execution_count": null,
   "id": "7c674c43",
   "metadata": {},
   "outputs": [],
   "source": [
    "n1.upper()"
   ]
  },
  {
   "cell_type": "code",
   "execution_count": null,
   "id": "c6cb7aaf",
   "metadata": {},
   "outputs": [],
   "source": [
    "def add(a,b):\n",
    "    \"\"\"This function will perform arithmetic operation\"\"\"\n",
    "    p = a+b\n",
    "    q = a-b\n",
    "    r = a*b\n",
    "    s = a/b\n",
    "    t = a//b\n",
    "    \n",
    "    return p, q, r, s, t"
   ]
  },
  {
   "cell_type": "code",
   "execution_count": null,
   "id": "8a19c497",
   "metadata": {},
   "outputs": [],
   "source": [
    "add(5,6)"
   ]
  },
  {
   "cell_type": "code",
   "execution_count": null,
   "id": "1f8c5184",
   "metadata": {},
   "outputs": [],
   "source": [
    "#def add(p,q):\n",
    "    #return p+q, p-q, p*q, p/q"
   ]
  },
  {
   "cell_type": "code",
   "execution_count": null,
   "id": "49820200",
   "metadata": {},
   "outputs": [],
   "source": [
    "add(2,3)"
   ]
  },
  {
   "cell_type": "code",
   "execution_count": null,
   "id": "521f85c7",
   "metadata": {},
   "outputs": [],
   "source": []
  },
  {
   "cell_type": "code",
   "execution_count": null,
   "id": "13b8d56d",
   "metadata": {},
   "outputs": [],
   "source": [
    "add()"
   ]
  },
  {
   "cell_type": "code",
   "execution_count": null,
   "id": "c261f19b",
   "metadata": {},
   "outputs": [],
   "source": [
    "def add(a,b):\n",
    "    \"\"\"This function will perform arithmetic operation\"\"\"\n",
    "    p = a+b \n",
    "    return p"
   ]
  },
  {
   "cell_type": "code",
   "execution_count": null,
   "id": "b2d291cb",
   "metadata": {},
   "outputs": [],
   "source": [
    "my_sum = add(1,8)"
   ]
  },
  {
   "cell_type": "code",
   "execution_count": null,
   "id": "5f129fe2",
   "metadata": {},
   "outputs": [],
   "source": [
    "def sanjay(lst):\n",
    "    \"\"\"lst = list\n",
    "      result = product of all elemenets\n",
    "    \"\"\"\n",
    "    product = 1\n",
    "    for i in lst:\n",
    "        product*=i\n",
    "        \n",
    "    return product\n",
    "        \n",
    "    "
   ]
  },
  {
   "cell_type": "code",
   "execution_count": null,
   "id": "e9240465",
   "metadata": {},
   "outputs": [],
   "source": [
    "my_lst = [5, 3, 2, 4, 1]"
   ]
  },
  {
   "cell_type": "code",
   "execution_count": null,
   "id": "1144d56c",
   "metadata": {},
   "outputs": [],
   "source": [
    "product(my_lst)"
   ]
  },
  {
   "cell_type": "code",
   "execution_count": null,
   "id": "474fe101",
   "metadata": {},
   "outputs": [],
   "source": [
    "product([1,5,9])"
   ]
  },
  {
   "cell_type": "code",
   "execution_count": null,
   "id": "64ae249c",
   "metadata": {},
   "outputs": [],
   "source": [
    "sanjay([4,5,6,7,8,9,10])"
   ]
  },
  {
   "cell_type": "code",
   "execution_count": null,
   "id": "d41e2f39",
   "metadata": {},
   "outputs": [],
   "source": [
    "def calculator(a,b):\n",
    "    \"\"\"This will calculate and perform 4 basic operation\"\"\"\n",
    "    \n",
    "    return a+b, a-b, a*b, a/b\n",
    "    "
   ]
  },
  {
   "cell_type": "code",
   "execution_count": null,
   "id": "c1b52602",
   "metadata": {},
   "outputs": [],
   "source": [
    "calculator(4,5)"
   ]
  },
  {
   "cell_type": "code",
   "execution_count": null,
   "id": "a904fc8f",
   "metadata": {},
   "outputs": [],
   "source": [
    "def calculator(a,b):\n",
    "    \"\"\" basic calculator \"\"\"\n",
    "    return a+b,a-b,a*b,a/b"
   ]
  },
  {
   "cell_type": "code",
   "execution_count": null,
   "id": "307a70b8",
   "metadata": {},
   "outputs": [],
   "source": [
    "calculator(7,8)"
   ]
  },
  {
   "cell_type": "code",
   "execution_count": null,
   "id": "3c3fdb4c",
   "metadata": {},
   "outputs": [],
   "source": [
    "def cal(a,b):\n",
    "    \"\"\"sdfghjkl\"\"\"\n",
    "    print(a+b, a*b)"
   ]
  },
  {
   "cell_type": "code",
   "execution_count": null,
   "id": "cd9e597d",
   "metadata": {},
   "outputs": [],
   "source": [
    "cal(4,5)"
   ]
  },
  {
   "cell_type": "code",
   "execution_count": null,
   "id": "a4a2336b",
   "metadata": {},
   "outputs": [],
   "source": [
    "h = \"saturaday\""
   ]
  },
  {
   "cell_type": "code",
   "execution_count": null,
   "id": "a57dc533",
   "metadata": {},
   "outputs": [],
   "source": [
    "h"
   ]
  },
  {
   "cell_type": "code",
   "execution_count": null,
   "id": "fde297a9",
   "metadata": {},
   "outputs": [],
   "source": [
    "globals()"
   ]
  },
  {
   "cell_type": "code",
   "execution_count": null,
   "id": "00b3c548",
   "metadata": {},
   "outputs": [],
   "source": []
  },
  {
   "cell_type": "code",
   "execution_count": null,
   "id": "7e104e74",
   "metadata": {},
   "outputs": [],
   "source": []
  },
  {
   "cell_type": "code",
   "execution_count": null,
   "id": "e925c98a",
   "metadata": {},
   "outputs": [],
   "source": [
    "h"
   ]
  },
  {
   "cell_type": "code",
   "execution_count": null,
   "id": "4e90854e",
   "metadata": {},
   "outputs": [],
   "source": [
    "h"
   ]
  },
  {
   "cell_type": "code",
   "execution_count": null,
   "id": "9d24253b",
   "metadata": {},
   "outputs": [],
   "source": [
    "globals()['h'] "
   ]
  },
  {
   "cell_type": "code",
   "execution_count": null,
   "id": "2fd29062",
   "metadata": {},
   "outputs": [],
   "source": [
    "h"
   ]
  },
  {
   "cell_type": "code",
   "execution_count": null,
   "id": "dc67be9c",
   "metadata": {},
   "outputs": [],
   "source": [
    "age = 30"
   ]
  },
  {
   "cell_type": "code",
   "execution_count": null,
   "id": "dcf00df1",
   "metadata": {},
   "outputs": [],
   "source": [
    "globals()['age']"
   ]
  },
  {
   "cell_type": "code",
   "execution_count": null,
   "id": "fe9a4d08",
   "metadata": {},
   "outputs": [],
   "source": [
    "age = 35"
   ]
  },
  {
   "cell_type": "code",
   "execution_count": null,
   "id": "9e7b3f31",
   "metadata": {},
   "outputs": [],
   "source": [
    "age"
   ]
  },
  {
   "cell_type": "code",
   "execution_count": null,
   "id": "336cd130",
   "metadata": {},
   "outputs": [],
   "source": [
    "globals()['age']"
   ]
  },
  {
   "cell_type": "code",
   "execution_count": null,
   "id": "54ef14cf",
   "metadata": {},
   "outputs": [],
   "source": [
    "globals()['age'] = 40"
   ]
  },
  {
   "cell_type": "code",
   "execution_count": null,
   "id": "1ad671e9",
   "metadata": {},
   "outputs": [],
   "source": [
    "age"
   ]
  },
  {
   "cell_type": "code",
   "execution_count": null,
   "id": "03bafbc9",
   "metadata": {},
   "outputs": [],
   "source": [
    "global_var = 100\n",
    "\n",
    "def test_func():\n",
    "    local_var = 55\n",
    "    \n",
    "    print(global_var)\n",
    "    print(local_var)\n",
    "    \n"
   ]
  },
  {
   "cell_type": "code",
   "execution_count": null,
   "id": "9494f4f4",
   "metadata": {},
   "outputs": [],
   "source": [
    "print(global_var)"
   ]
  },
  {
   "cell_type": "code",
   "execution_count": null,
   "id": "eb78cc09",
   "metadata": {},
   "outputs": [],
   "source": [
    "print(local_var)"
   ]
  },
  {
   "cell_type": "code",
   "execution_count": null,
   "id": "cc263a9d",
   "metadata": {},
   "outputs": [],
   "source": [
    "test_func()"
   ]
  },
  {
   "cell_type": "code",
   "execution_count": null,
   "id": "5ea3279c",
   "metadata": {},
   "outputs": [],
   "source": [
    "x = 15\n",
    "\n",
    "def tes1():\n",
    "    x = 45\n",
    "    \n",
    "    print(x)\n",
    "    \n",
    "    \n",
    "    "
   ]
  },
  {
   "cell_type": "code",
   "execution_count": null,
   "id": "46adc495",
   "metadata": {},
   "outputs": [],
   "source": [
    "print(x)"
   ]
  },
  {
   "cell_type": "code",
   "execution_count": null,
   "id": "69e23389",
   "metadata": {},
   "outputs": [],
   "source": [
    "tes1()"
   ]
  },
  {
   "cell_type": "code",
   "execution_count": null,
   "id": "1df2bd0e",
   "metadata": {},
   "outputs": [],
   "source": [
    "x = 48\n",
    "\n",
    "def tes1():\n",
    "    global x\n",
    "    x = 91\n",
    "    \n",
    "    print(x)"
   ]
  },
  {
   "cell_type": "code",
   "execution_count": null,
   "id": "51bf0b46",
   "metadata": {},
   "outputs": [],
   "source": [
    "print(x)"
   ]
  },
  {
   "cell_type": "code",
   "execution_count": null,
   "id": "4c74f90d",
   "metadata": {},
   "outputs": [],
   "source": [
    "tes1()"
   ]
  },
  {
   "cell_type": "code",
   "execution_count": null,
   "id": "ce750a31",
   "metadata": {},
   "outputs": [],
   "source": [
    "print(x)"
   ]
  },
  {
   "cell_type": "code",
   "execution_count": null,
   "id": "4cae92f6",
   "metadata": {},
   "outputs": [],
   "source": [
    "add = (lambda a,b : a+b)"
   ]
  },
  {
   "cell_type": "code",
   "execution_count": null,
   "id": "2998dcbc",
   "metadata": {},
   "outputs": [],
   "source": [
    "lambda x:x*2"
   ]
  },
  {
   "cell_type": "code",
   "execution_count": null,
   "id": "ba2861a0",
   "metadata": {},
   "outputs": [],
   "source": [
    "add(7,8)"
   ]
  },
  {
   "cell_type": "code",
   "execution_count": null,
   "id": "146d9481",
   "metadata": {},
   "outputs": [],
   "source": [
    "(lambda x:x**2)(9)"
   ]
  },
  {
   "cell_type": "code",
   "execution_count": null,
   "id": "fb7c7930",
   "metadata": {},
   "outputs": [],
   "source": [
    "(lambda x,y : x+y if x>y else 0)(38,35)"
   ]
  },
  {
   "cell_type": "code",
   "execution_count": null,
   "id": "8dcfcc80",
   "metadata": {},
   "outputs": [],
   "source": [
    "names = [('Prateek', 5), ('Mohit',2), ('Abhi', 6 )]"
   ]
  },
  {
   "cell_type": "code",
   "execution_count": null,
   "id": "1f43d1f7",
   "metadata": {},
   "outputs": [],
   "source": [
    "sorted(names, key=lambda x:x[1])"
   ]
  },
  {
   "cell_type": "code",
   "execution_count": null,
   "id": "6b08aa47",
   "metadata": {},
   "outputs": [],
   "source": [
    "#: Write a Function to find Least Common Multiple LCM of a, b"
   ]
  },
  {
   "cell_type": "code",
   "execution_count": null,
   "id": "62fd90a9",
   "metadata": {},
   "outputs": [],
   "source": [
    "def lcm_check(a,b):\n",
    "    \n",
    "    \"\"\"IT will calculate the LCM of two numbers\"\"\"\n",
    "    \n",
    "    max_num = a if a>b else b\n",
    "    \n",
    "    while True:\n",
    "        if (max_num%a==0) and (max_num%b==0):\n",
    "            return max_num\n",
    "        else:\n",
    "            max_num+=1\n",
    "        \n",
    "     \n",
    "    "
   ]
  },
  {
   "cell_type": "code",
   "execution_count": null,
   "id": "07a4d572",
   "metadata": {},
   "outputs": [],
   "source": [
    "lcm_check(2,4)"
   ]
  },
  {
   "cell_type": "code",
   "execution_count": null,
   "id": "a0878474",
   "metadata": {},
   "outputs": [],
   "source": [
    "lcm_check(3,5)"
   ]
  },
  {
   "cell_type": "code",
   "execution_count": null,
   "id": "41cb5a17",
   "metadata": {},
   "outputs": [],
   "source": [
    "lcm_check(1,15)"
   ]
  },
  {
   "cell_type": "code",
   "execution_count": null,
   "id": "36d1610c",
   "metadata": {},
   "outputs": [],
   "source": [
    "lcm_check(4,16)"
   ]
  },
  {
   "cell_type": "code",
   "execution_count": null,
   "id": "1a92aec2",
   "metadata": {},
   "outputs": [],
   "source": [
    "def intro(name, nationality):\n",
    "    print(\"Hi {} and your nationality is {} \".format(name, nationality))\n",
    "    "
   ]
  },
  {
   "cell_type": "code",
   "execution_count": null,
   "id": "f1ee99bd",
   "metadata": {},
   "outputs": [],
   "source": [
    "intro('sanjay', 'Indian')"
   ]
  },
  {
   "cell_type": "code",
   "execution_count": null,
   "id": "36e6b370",
   "metadata": {},
   "outputs": [],
   "source": [
    "def intro(name, nationality = 'Indian'):\n",
    "    print(\"Hi {} and your nationality is {} \".format(name, nationality))"
   ]
  },
  {
   "cell_type": "code",
   "execution_count": null,
   "id": "a12c1aeb",
   "metadata": {},
   "outputs": [],
   "source": [
    "intro('Manish', \"American\")"
   ]
  },
  {
   "cell_type": "code",
   "execution_count": null,
   "id": "f4c60217",
   "metadata": {},
   "outputs": [],
   "source": [
    "intro(\"Indian\", \"Mohit\")"
   ]
  },
  {
   "cell_type": "code",
   "execution_count": null,
   "id": "acbecbc8",
   "metadata": {},
   "outputs": [],
   "source": [
    "def test(a,b,c ,d = 12):\n",
    "    pass"
   ]
  },
  {
   "cell_type": "code",
   "execution_count": null,
   "id": "e93f11cc",
   "metadata": {},
   "outputs": [],
   "source": [
    "def args_func(*args):\n",
    "    print(args)\n",
    "    print(type(args))"
   ]
  },
  {
   "cell_type": "code",
   "execution_count": null,
   "id": "c74fdf4d",
   "metadata": {},
   "outputs": [],
   "source": [
    "args_func(45,78,96,145,256,78,365,\"python\", \"ml\", \"DS\",\"cv\", \"NLP\")"
   ]
  },
  {
   "cell_type": "code",
   "execution_count": null,
   "id": "ab4e90d6",
   "metadata": {},
   "outputs": [],
   "source": [
    "def introduction(**sanjay):\n",
    "    print(sanjay)\n",
    "    print(type(sanjay))"
   ]
  },
  {
   "cell_type": "code",
   "execution_count": null,
   "id": "6e09a281",
   "metadata": {},
   "outputs": [],
   "source": [
    "introduction(name = 'Manish', age = 30, hobby = ['coding', 'singning'], nationality = \"Indian\")"
   ]
  },
  {
   "cell_type": "code",
   "execution_count": null,
   "id": "44cf3e6a",
   "metadata": {},
   "outputs": [],
   "source": [
    "def test(a,b,c, d = 800,*args, **kwargs):\n",
    "    print(a,b,c)\n",
    "    print(d)\n",
    "    print(args)\n",
    "    print(kwargs)"
   ]
  },
  {
   "cell_type": "code",
   "execution_count": null,
   "id": "ee52cbe9",
   "metadata": {},
   "outputs": [],
   "source": [
    "test(78,96,45,156,\"computer\", \"vision\", \"data science\", name = 'sanjay', age = 30)"
   ]
  },
  {
   "cell_type": "code",
   "execution_count": null,
   "id": "8d984f27",
   "metadata": {},
   "outputs": [],
   "source": [
    "import math"
   ]
  },
  {
   "cell_type": "code",
   "execution_count": null,
   "id": "2c6b1046",
   "metadata": {},
   "outputs": [],
   "source": [
    "math.sin(15)"
   ]
  },
  {
   "cell_type": "code",
   "execution_count": null,
   "id": "c2061cdc",
   "metadata": {},
   "outputs": [],
   "source": [
    "math.cosh(14)"
   ]
  },
  {
   "cell_type": "code",
   "execution_count": null,
   "id": "1fe4dd08",
   "metadata": {},
   "outputs": [],
   "source": [
    "math.exp(5)"
   ]
  },
  {
   "cell_type": "code",
   "execution_count": null,
   "id": "e5798c40",
   "metadata": {},
   "outputs": [],
   "source": [
    "math.pow(2,3)"
   ]
  },
  {
   "cell_type": "code",
   "execution_count": null,
   "id": "331abf66",
   "metadata": {},
   "outputs": [],
   "source": [
    "print(dir(math))"
   ]
  },
  {
   "cell_type": "code",
   "execution_count": null,
   "id": "261eef07",
   "metadata": {},
   "outputs": [],
   "source": [
    "math.log10(10)"
   ]
  },
  {
   "cell_type": "code",
   "execution_count": null,
   "id": "1c99ca6b",
   "metadata": {},
   "outputs": [],
   "source": [
    "math.factorial(6)"
   ]
  },
  {
   "cell_type": "code",
   "execution_count": null,
   "id": "5d756597",
   "metadata": {},
   "outputs": [],
   "source": [
    "math.sqrt(25)"
   ]
  },
  {
   "cell_type": "code",
   "execution_count": null,
   "id": "17213803",
   "metadata": {},
   "outputs": [],
   "source": [
    "math.pi"
   ]
  },
  {
   "cell_type": "code",
   "execution_count": null,
   "id": "b2ef94ee",
   "metadata": {},
   "outputs": [],
   "source": [
    "math.ceil(7.3)"
   ]
  },
  {
   "cell_type": "code",
   "execution_count": null,
   "id": "1f565f9d",
   "metadata": {},
   "outputs": [],
   "source": [
    "import random"
   ]
  },
  {
   "cell_type": "code",
   "execution_count": null,
   "id": "1babf248",
   "metadata": {},
   "outputs": [],
   "source": [
    "random.randint(10,100)"
   ]
  },
  {
   "cell_type": "code",
   "execution_count": null,
   "id": "4b75c498",
   "metadata": {},
   "outputs": [],
   "source": [
    "round((random.random()*50)+10, 2)"
   ]
  },
  {
   "cell_type": "code",
   "execution_count": null,
   "id": "3d657c2c",
   "metadata": {},
   "outputs": [],
   "source": [
    "import os"
   ]
  },
  {
   "cell_type": "code",
   "execution_count": null,
   "id": "7ee83032",
   "metadata": {},
   "outputs": [],
   "source": [
    "print(dir(os))"
   ]
  },
  {
   "cell_type": "code",
   "execution_count": null,
   "id": "dd25ea33",
   "metadata": {},
   "outputs": [],
   "source": [
    "os.path"
   ]
  },
  {
   "cell_type": "code",
   "execution_count": null,
   "id": "2b071a61",
   "metadata": {},
   "outputs": [],
   "source": [
    "os.getcwd()"
   ]
  },
  {
   "cell_type": "code",
   "execution_count": null,
   "id": "357c718e",
   "metadata": {},
   "outputs": [],
   "source": [
    "os.mkdir(\"computer\")"
   ]
  },
  {
   "cell_type": "code",
   "execution_count": null,
   "id": "ee4c49e1",
   "metadata": {},
   "outputs": [],
   "source": [
    "os.rmdir('computer')"
   ]
  },
  {
   "cell_type": "code",
   "execution_count": null,
   "id": "2c8bdc21",
   "metadata": {},
   "outputs": [],
   "source": [
    "os.mkdir(\"asd.py\")"
   ]
  },
  {
   "cell_type": "code",
   "execution_count": null,
   "id": "8744da48",
   "metadata": {},
   "outputs": [],
   "source": [
    "os.remove(\"data science.txt\")"
   ]
  },
  {
   "cell_type": "code",
   "execution_count": null,
   "id": "f3be68c2",
   "metadata": {},
   "outputs": [],
   "source": [
    "os.rename('data science123',\"computer vision\")"
   ]
  },
  {
   "cell_type": "code",
   "execution_count": null,
   "id": "fa2f926e",
   "metadata": {},
   "outputs": [],
   "source": [
    "import sys"
   ]
  },
  {
   "cell_type": "code",
   "execution_count": null,
   "id": "1eadc036",
   "metadata": {},
   "outputs": [],
   "source": [
    "print(dir(sys))"
   ]
  },
  {
   "cell_type": "code",
   "execution_count": null,
   "id": "981eb075",
   "metadata": {},
   "outputs": [],
   "source": [
    "sys.thread_info"
   ]
  },
  {
   "cell_type": "code",
   "execution_count": null,
   "id": "089cac7a",
   "metadata": {},
   "outputs": [],
   "source": [
    "sys.version"
   ]
  },
  {
   "cell_type": "code",
   "execution_count": null,
   "id": "b4648482",
   "metadata": {},
   "outputs": [],
   "source": [
    "sys.version_info"
   ]
  },
  {
   "cell_type": "code",
   "execution_count": null,
   "id": "a04d3108",
   "metadata": {},
   "outputs": [],
   "source": [
    "sys.path"
   ]
  },
  {
   "cell_type": "code",
   "execution_count": null,
   "id": "d4f3df6e",
   "metadata": {},
   "outputs": [],
   "source": [
    "import datetime"
   ]
  },
  {
   "cell_type": "code",
   "execution_count": null,
   "id": "77504f05",
   "metadata": {},
   "outputs": [],
   "source": [
    "datetime.datetime.now()"
   ]
  },
  {
   "cell_type": "code",
   "execution_count": null,
   "id": "b3df2ee4",
   "metadata": {},
   "outputs": [],
   "source": [
    "print(dir(datetime))"
   ]
  },
  {
   "cell_type": "code",
   "execution_count": null,
   "id": "5451c5f3",
   "metadata": {},
   "outputs": [],
   "source": [
    "import math as m"
   ]
  },
  {
   "cell_type": "code",
   "execution_count": null,
   "id": "bb443201",
   "metadata": {},
   "outputs": [],
   "source": [
    "import random as rn"
   ]
  },
  {
   "cell_type": "code",
   "execution_count": null,
   "id": "1504905c",
   "metadata": {},
   "outputs": [],
   "source": [
    "import datetime"
   ]
  },
  {
   "cell_type": "code",
   "execution_count": null,
   "id": "254c24e2",
   "metadata": {},
   "outputs": [],
   "source": [
    "m.factorial(15)"
   ]
  },
  {
   "cell_type": "code",
   "execution_count": null,
   "id": "97ac8625",
   "metadata": {},
   "outputs": [],
   "source": [
    "rn.random()"
   ]
  },
  {
   "cell_type": "code",
   "execution_count": null,
   "id": "201e4e12",
   "metadata": {},
   "outputs": [],
   "source": [
    "from math import factorial"
   ]
  },
  {
   "cell_type": "code",
   "execution_count": null,
   "id": "76c530e9",
   "metadata": {},
   "outputs": [],
   "source": [
    "factorial(6)"
   ]
  },
  {
   "cell_type": "code",
   "execution_count": null,
   "id": "60c0f70c",
   "metadata": {},
   "outputs": [],
   "source": [
    "factorial(8)"
   ]
  },
  {
   "cell_type": "code",
   "execution_count": null,
   "id": "fd511ff9",
   "metadata": {},
   "outputs": [],
   "source": [
    "from random import randint"
   ]
  },
  {
   "cell_type": "code",
   "execution_count": null,
   "id": "4cdf4775",
   "metadata": {},
   "outputs": [],
   "source": [
    "randint(10,20)"
   ]
  },
  {
   "cell_type": "code",
   "execution_count": null,
   "id": "12fe3325",
   "metadata": {},
   "outputs": [],
   "source": [
    "#from math import * "
   ]
  },
  {
   "cell_type": "code",
   "execution_count": null,
   "id": "ef99dfd9",
   "metadata": {},
   "outputs": [],
   "source": [
    "#import game"
   ]
  },
  {
   "cell_type": "code",
   "execution_count": null,
   "id": "51712979",
   "metadata": {},
   "outputs": [],
   "source": [
    "#import Game.Image.open"
   ]
  },
  {
   "cell_type": "code",
   "execution_count": null,
   "id": "5d6a5391",
   "metadata": {},
   "outputs": [],
   "source": [
    "#import Game.Image"
   ]
  },
  {
   "cell_type": "code",
   "execution_count": null,
   "id": "f01a8cf5",
   "metadata": {},
   "outputs": [],
   "source": [
    "#from Game import Image"
   ]
  },
  {
   "cell_type": "code",
   "execution_count": null,
   "id": "8c9772b4",
   "metadata": {},
   "outputs": [],
   "source": [
    "#from Game.Image import Open"
   ]
  },
  {
   "cell_type": "code",
   "execution_count": null,
   "id": "92de1fb3",
   "metadata": {},
   "outputs": [],
   "source": [
    "import math"
   ]
  },
  {
   "cell_type": "code",
   "execution_count": null,
   "id": "ec207a39",
   "metadata": {},
   "outputs": [],
   "source": [
    "math.factorial(5)"
   ]
  },
  {
   "cell_type": "code",
   "execution_count": null,
   "id": "6e77eaca",
   "metadata": {},
   "outputs": [],
   "source": [
    "import math"
   ]
  },
  {
   "cell_type": "code",
   "execution_count": 3,
   "id": "8a5cd3d0",
   "metadata": {},
   "outputs": [],
   "source": [
    "import pythoncustom"
   ]
  },
  {
   "cell_type": "code",
   "execution_count": 4,
   "id": "beab1701",
   "metadata": {},
   "outputs": [
    {
     "data": {
      "text/plain": [
       "'Hellosanjay'"
      ]
     },
     "execution_count": 4,
     "metadata": {},
     "output_type": "execute_result"
    }
   ],
   "source": [
    "pythoncustom.greeeting('sanjay')"
   ]
  },
  {
   "cell_type": "code",
   "execution_count": 2,
   "id": "ea59dc70",
   "metadata": {},
   "outputs": [
    {
     "name": "stdout",
     "output_type": "stream",
     "text": [
      "I am learning custom modules\n"
     ]
    }
   ],
   "source": [
    "import pythoncustom"
   ]
  },
  {
   "cell_type": "code",
   "execution_count": 3,
   "id": "162aa68e",
   "metadata": {},
   "outputs": [
    {
     "data": {
      "text/plain": [
       "'Hellosanjay'"
      ]
     },
     "execution_count": 3,
     "metadata": {},
     "output_type": "execute_result"
    }
   ],
   "source": [
    "pythoncustom.greeeting('sanjay')"
   ]
  },
  {
   "cell_type": "code",
   "execution_count": 5,
   "id": "68cd42ea",
   "metadata": {},
   "outputs": [
    {
     "name": "stdout",
     "output_type": "stream",
     "text": [
      "This is main project file\n"
     ]
    }
   ],
   "source": [
    "import pythonproject"
   ]
  },
  {
   "cell_type": "code",
   "execution_count": 6,
   "id": "9dffe3af",
   "metadata": {},
   "outputs": [
    {
     "name": "stdout",
     "output_type": "stream",
     "text": [
      "__main__\n"
     ]
    }
   ],
   "source": [
    "print(__name__)"
   ]
  },
  {
   "cell_type": "code",
   "execution_count": 7,
   "id": "2ef976b6",
   "metadata": {},
   "outputs": [
    {
     "name": "stdout",
     "output_type": "stream",
     "text": [
      "Module name :  __main__\n"
     ]
    }
   ],
   "source": [
    "print(\"Module name : \" , __name__)"
   ]
  },
  {
   "cell_type": "code",
   "execution_count": null,
   "id": "0972bc0a",
   "metadata": {},
   "outputs": [],
   "source": []
  }
 ],
 "metadata": {
  "kernelspec": {
   "display_name": "Python 3",
   "language": "python",
   "name": "python3"
  },
  "language_info": {
   "codemirror_mode": {
    "name": "ipython",
    "version": 3
   },
   "file_extension": ".py",
   "mimetype": "text/x-python",
   "name": "python",
   "nbconvert_exporter": "python",
   "pygments_lexer": "ipython3",
   "version": "3.8.8"
  }
 },
 "nbformat": 4,
 "nbformat_minor": 5
}
